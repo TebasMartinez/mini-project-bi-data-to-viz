{
 "cells": [
  {
   "cell_type": "code",
   "execution_count": 1,
   "id": "6672d6af-9e7d-4930-bd70-abba68228566",
   "metadata": {},
   "outputs": [],
   "source": [
    "import pandas as pd\n",
    "\n",
    "# Import data\n",
    "df = pd.read_csv(\"Aemf1.csv\")\n",
    "\n",
    "# Clean data\n",
    "df = df.drop(columns=[\"Attraction Index\", \"Normalised Attraction Index\", \"Restraunt Index\", \"Normalised Restraunt Index\", \"Shared Room\", \"Private Room\", \"Superhost\"])\n",
    "df.columns = [column.replace(\" \", \"_\").replace(\"(\", \"\").replace(\")\", \"\").lower() for column in df.columns]\n",
    "\n",
    "categorical_from_numerical = df.select_dtypes(\"number\").loc[:, df.select_dtypes(\"number\").nunique() < 3]\n",
    "categorical_from_numerical\n",
    "df_categorical = pd.concat([df.select_dtypes(\"object\"), categorical_from_numerical], axis=1)\n",
    "df_numerical = df.select_dtypes(\"number\").drop(columns=categorical_from_numerical.columns)\n",
    "\n",
    "df.to_csv(\"Clean_Aemf1.csv\")"
   ]
  }
 ],
 "metadata": {
  "kernelspec": {
   "display_name": "Python [conda env:base] *",
   "language": "python",
   "name": "conda-base-py"
  },
  "language_info": {
   "codemirror_mode": {
    "name": "ipython",
    "version": 3
   },
   "file_extension": ".py",
   "mimetype": "text/x-python",
   "name": "python",
   "nbconvert_exporter": "python",
   "pygments_lexer": "ipython3",
   "version": "3.12.7"
  }
 },
 "nbformat": 4,
 "nbformat_minor": 5
}
