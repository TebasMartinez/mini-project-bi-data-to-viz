{
 "cells": [
  {
   "cell_type": "code",
   "execution_count": 1,
   "id": "6672d6af-9e7d-4930-bd70-abba68228566",
   "metadata": {},
   "outputs": [],
   "source": [
    "import pandas as pd\n",
    "\n",
    "# Import data\n",
    "df = pd.read_csv(\"Aemf1.csv\")\n",
    "\n",
    "#Remove not needed columns\n",
    "notneeded_columns = [\"Attraction Index\", \n",
    "                     \"Normalised Attraction Index\", \n",
    "                     \"Restraunt Index\", \n",
    "                     \"Normalised Restraunt Index\", \n",
    "                     \"Shared Room\", \n",
    "                     \"Private Room\", \n",
    "                     \"Superhost\"]\n",
    "\n",
    "df = df.drop(columns=notneeded_columns)\n",
    "\n",
    "#Format column names\n",
    "df.columns = [column.replace(\" \", \"_\").replace(\"(\", \"\").replace(\")\", \"\").lower() for column in df.columns]\n",
    "\n",
    "# Export clean data\n",
    "df.to_csv(\"Clean_Aemf1.csv\")"
   ]
  }
 ],
 "metadata": {
  "kernelspec": {
   "display_name": "Python [conda env:base] *",
   "language": "python",
   "name": "conda-base-py"
  },
  "language_info": {
   "codemirror_mode": {
    "name": "ipython",
    "version": 3
   },
   "file_extension": ".py",
   "mimetype": "text/x-python",
   "name": "python",
   "nbconvert_exporter": "python",
   "pygments_lexer": "ipython3",
   "version": "3.12.7"
  }
 },
 "nbformat": 4,
 "nbformat_minor": 5
}
